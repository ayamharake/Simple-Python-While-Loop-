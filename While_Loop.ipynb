{
  "nbformat": 4,
  "nbformat_minor": 0,
  "metadata": {
    "colab": {
      "provenance": []
    },
    "kernelspec": {
      "name": "python3",
      "display_name": "Python 3"
    },
    "language_info": {
      "name": "python"
    }
  },
  "cells": [
    {
      "cell_type": "code",
      "execution_count": 1,
      "metadata": {
        "id": "qH-vilmGJevf",
        "colab": {
          "base_uri": "https://localhost:8080/"
        },
        "outputId": "b904c224-cedd-4d4a-d9cd-319d2f94ab57"
      },
      "outputs": [
        {
          "output_type": "stream",
          "name": "stdout",
          "text": [
            "*\n",
            "**\n",
            "***\n",
            "****\n",
            "*****\n"
          ]
        }
      ],
      "source": [
        "#write a while loop repeating * sequienttialy till 5\n",
        "x = 1\n",
        "while x <= 5:\n",
        "  print(\"*\" * x)\n",
        "  x = x + 1"
      ]
    }
  ]
}
